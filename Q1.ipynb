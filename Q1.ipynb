{
 "cells": [
  {
   "cell_type": "markdown",
   "metadata": {},
   "source": [
    "# Q1(1):\n",
    "###1. PMF of geometric distribution: \n",
    "$$ P(X = k) = (1-p)^{k-1}p $$\n",
    "It represents the probability that the first success occurs exactly on the k-th trial,",
    "where $k = 1, 2, 3, ...$ and $0 < p \\leq 1$\n",
    "\n\n",
    "###2. CDF of geometric distribution: \n",
    "$$ F(k) = P(X \\leq k) = 1 - (1-p)^k $$\n",
    "\n\n",
    "###3. PPF of geometric distribution: \n",
    "$$ \\text{PPF}(q) = \\min \\{ k \\in \\mathbb{N}^+ \\mid P(X \\leq k) \\geq q \\} $$\n",
    "where $0 < q < 1$\n",
    "\n\n",
    "###4. Expected Value:\n",
    "$$ E[X] = \\frac{1}{p} $$\n",
    "\n",
    "###5. Variance:\n",
    "$$ Var(X) = \\frac{1-p}{p^2} $$"
   ]
  },
  {
   "cell_type": "markdown",
   "metadata": {},
   "source": [
    "## a: Calculate the probability P(K = 4)"
   ]
  },
  {
   "cell_type": "code",
   "execution_count": null,
   "metadata": {},
   "outputs": [],
   "source": [
    "import numpy as np\n",
    "from scipy.stats import geom\n",
    "\n",
    "# Set the success probability\n",
    "p = 0.25\n",
    "\n",
    "# Calculate P(K = 4) using PMF\n",
    "p4 = geom.pmf(k=4, p=p)\n",
    "\n",
    "print(f\"a. P(K = 4) = {p4:.4f}\")"
   ]
  },
  {
   "cell_type": "markdown",
   "metadata": {},
   "source": [
    "## b. Calculate the probability P(K ≤ 3)"
   ]
  },
  {
   "cell_type": "code",
   "execution_count": null,
   "metadata": {},
   "outputs": [],
   "source": [
    "# Calculate P(K ≤ 3) using CDF\n",
    "p3 = geom.cdf(k=3, p=p)\n",
    "\n",
    "print(f\"b. P(K ≤ 3) = {p3:.4f}\")"
   ]
  },
  {
   "cell_type": "markdown",
   "metadata": {},
   "source": [
    "## c. Calculate the 0.7 quantile"
   ]
  },
  {
   "cell_type": "code",
   "execution_count": null,
   "metadata": {},
   "outputs": [],
   "source": [
    "# Calculate 0.7 quantile using PPF. The quantile is the smallest k where P(X ≤ k) ≥ 0.7\n",
    "quantile_07 = geom.ppf(q=0.7, p=p)\n",
    "\n",
    "print(f\"c. The 0.7 quantile is: {int(quantile_07)}\")\n",
    "print(f\"   This means P(X ≤ {int(quantile_07)}) ≥ 0.7\")"
   ]
  },
  {
   "cell_type": "markdown",
   "metadata": {},
   "source": [
    "## d. Generate n = 100 random samples from this distribution"
   ]
  },
  {
   "cell_type": "code",
   "execution_count": null,
   "metadata": {},
   "outputs": [],
   "source": [
    "np.random.seed(42)  # Set seed for reproducibility\n",
    "\n",
    "# Generate 100 random samples from geometric distribution\n",
    "samples = geom.rvs(p=p, size=100)\n",
    "\n",
    "# Display samples\n",
    "print(\"d. All 100 random samples:\")\n",
    "for i in range(0, 100, 10):\n",
    "    print(samples[i:i + 10])"
   ]
  },
  {
   "cell_type": "markdown",
   "metadata": {},
   "source": [
    "# Q1(2): Chi-Squared Distribution (df = 4)\n",
    "The chi-squared distribution is a **continuous probability distribution**, denoted as $\\chi^2(\\nu)$, where $\\nu$ (pronounced \"nu\") represents the **degrees of freedom** — a positive integer parameter that defines the distribution's shape.\n",
    "\n",
    "### 1. PDF\n",
    "The PDF describes the relative likelihood of the random variable taking a specific value $x$:\n",
    "$$ f(x; \\nu) = \\begin{cases}\n    \\frac{1}{2^{\\nu/2} \\Gamma(\\nu/2)} x^{\\nu/2 - 1} e^{-x/2} & \\text{if } x > 0, \\\\ 0 & \\text{if } x \\leq 0\n\\end{cases} $$\n",
    "\n",
    "### 2. CDF\n",
    "The CDF gives the probability that the random variable $X$ is less than or equal to a value $x$:\n",
    "$$ F(x; \\nu) = P(X \\leq x) = \\frac{1}{2^{\\nu/2} \\Gamma(\\nu/2)} \\int_{0}^{x} t^{\\nu/2 - 1} e^{-t/2} dt $$\n",
    "\n",
    "### 3. PPF\n",
    "The PPF is the inverse of the CDF, returning the smallest $x$ such that cumulative probability is at least $q$:\n",
    "$$ \\text{PPF}(q; \\nu) = \\min \\{ x \\geq 0 \\mid F(x; \\nu) \\geq q \\} $$"
   ]
  },
  {
   "cell_type": "markdown",
   "metadata": {},
   "source": [
    "## a: Calculate the density function at x = 2"
   ]
  },
  {
   "cell_type": "code",
   "execution_count": null,
   "metadata": {},
   "outputs": [],
   "source": [
    "import numpy as np\n",
    "from scipy.stats import chi2\n",
    "\n",
    "df = 4  # Degrees of freedom\n",
    "x_value = 2\n",
    "\n",
    "# Calculate PDF at x = 2\n",
    "pdf_value = chi2.pdf(x=x_value, df=df)\n",
    "\n",
    "print(f\"a. Density function at x = 2: {pdf_value:.4f}\")"
   ]
  },
  {
   "cell_type": "markdown",
   "metadata": {},
   "source": [
    "## b: Calculate the probability P(X ≤ 3)"
   ]
  },
  {
   "cell_type": "code",
   "execution_count": null,
   "metadata": {},
   "outputs": [],
   "source": [
    "# Calculate CDF at x = 3\n",
    "cdf_value = chi2.cdf(x=3, df=df)\n",
    "\n",
    "print(f\"b. P(X ≤ 3) = {cdf_value:.4f}\")"
   ]
  },
  {
   "cell_type": "markdown",
   "metadata": {},
   "source": [
    "## c: Find x such that P(X ≤ x) = 0.9"
   ]
  },
  {
   "cell_type": "code",
   "execution_count": null,
   "metadata": {},
   "outputs": [],
   "source": [
    "# Calculate PPF for 0.9 quantile\n",
    "x_quantile = chi2.ppf(q=0.9, df=df)\n",
    "\n",
    "print(f\"c. x value where P(X ≤ x) = 0.9: {x_quantile:.4f}\")"
   ]
  },
  {
   "cell_type": "markdown",
   "metadata": {},
   "source": [
    "## d: Generate n = 100 random samples from this distribution"
   ]
  },
  {
   "cell_type": "code",
   "execution_count": null,
   "metadata": {},
   "outputs": [],
   "source": [
    "np.random.seed(42)  # Set seed for reproducibility\n",
    "samples2 = chi2.rvs(df=df, size=100)\n",
    "\n",
    "print(\"d. All 100 random samples:\")\n",
    "# Display 10 samples per line for readability\n",
    "for i in range(0, 100, 10):\n",
    "    print(samples2[i:i+10].round(4))  # Display with 4 decimal places"
   ]
  }
 ],
 "metadata": {
  "kernelspec": {
   "display_name": "Python 3",
   "language": "python",
   "name": "python3"
  },
  "language_info": {
   "codemirror_mode": {
    "name": "ipython",
    "version": 3
   },
   "file_extension": ".py",
   "mimetype": "text/x-python",
   "name": "python",
   "nbconvert_exporter": "python",
   "pygments_lexer": "ipython3",
   "version": "3.x"
  }
 },
 "nbformat": 4,
 "nbformat_minor": 2
}
    
