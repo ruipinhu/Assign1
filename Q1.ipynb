{
 "cells": [
  {
   "cell_type": "code",
   "execution_count": 1,
   "metadata": {},
   "outputs": [],
   "source": [
    "# 导入所需库\n",
    "import numpy as np\n",
    "from scipy.stats import geom"
   ]
  },
  {
   "cell_type": "code",
   "execution_count": 2,
   "metadata": {},
   "outputs": [],
   "source": [
    "# 设置成功概率\n",
    "p = 0.25"
   ]
  },
  {
   "cell_type": "code",
   "execution_count": 3,
   "metadata": {},
   "outputs": [
    {
     "name": "stdout",
     "output_type": "stream",
     "text": [
      "P(K = 4) = 0.1055\n"
     ]
    }
   ],
   "source": [
    "# a. 计算P(K = 4)\n",
    "# 关键：使用概率质量函数(PMF)计算恰好第k次成功的概率\n",
    "prob_k4 = geom.pmf(k=4, p=p)\n",
    "print(f\"P(K = 4) = {prob_k4:.4f}\")"
   ]
  },
  {
   "cell_type": "code",
   "execution_count": 4,
   "metadata": {},
   "outputs": [
    {
     "name": "stdout",
     "output_type": "stream",
     "text": [
      "P(K ≤ 3) = 0.5781\n"
     ]
    }
   ],
   "source": [
    "# b. 计算P(K ≤ 3)\n",
    "# 关键：使用累积分布函数(CDF)计算小于等于k的累积概率\n",
    "prob_kleq3 = geom.cdf(k=3, p=p)\n",
    "print(f\"P(K ≤ 3) = {prob_kleq3:.4f}\")"
   ]
  },
  {
   "cell_type": "code",
   "execution_count": 5,
   "metadata": {},
   "outputs": [
    {
     "name": "stdout",
     "output_type": "stream",
     "text": [
      "0.7分位数 = 4\n"
     ]
    }
   ],
   "source": [
    "# c. 计算0.7分位数\n",
    "# 关键：使用百分点函数(PPF)寻找满足P(K ≤ k)=0.7的最小k值\n",
    "quantile_07 = geom.ppf(q=0.7, p=p)\n",
    "print(f\"0.7分位数 = {quantile_07:.0f}\")"
   ]
  },
  {
   "cell_type": "code",
   "execution_count": 6,
   "metadata": {},
   "outputs": [
    {
     "name": "stdout",
     "output_type": "stream",
     "text": [
      "前10个样本: [ 1  1  2  1  5  3  2  1  2 10]\n"
     ]
    }
   ],
   "source": [
    "# d. 生成100个随机样本\n",
    "# 关键：使用rvs函数从几何分布中抽取指定数量的随机样本\n",
    "np.random.seed(42)  # 固定随机种子以确保结果可复现\n",
    "samples = geom.rvs(p=p, size=100)\n",
    "print(f\"前10个样本: {samples[:10]}\")"
   ]
  }
 ],
 "metadata": {
  "kernelspec": {
   "display_name": "Python 3",
   "language": "python",
   "name": "python3"
  },
  "language_info": {
   "codemirror_mode": {
    "name": "ipython",
    "version": 3
   },
   "file_extension": ".py",
   "mimetype": "text/x-python",
   "name": "python",
   "nbconvert_exporter": "python",
   "pygments_lexer": "ipython3",
   "version": "3.x"
  }
 },
 "nbformat": 4,
 "nbformat_minor": 2
}
    
