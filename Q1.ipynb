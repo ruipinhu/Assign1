{
 "cells": [
  {
   "cell_type": "markdown",
   "metadata": {},
   "source": [
    "# Q1(1):\n",
    "PMF of geometric distribution: \n",
    "$$ P(X = k) = (1-p)^{k-1}p $$\n",
    "It represents the probability that the first success occurs exactly on the k-th trial，\n",
    "where $k = 1, 2, 3, ...$ and $0 < p \\leq 1$\n",
    "\n\n",
    "CDF of geometric distribution: \n",
    "$$ F(k) = P(X \\leq k) = 1 - (1-p)^k $$\n",
    "where $k = 1, 2, 3, ...$ and $0 < p \\leq 1$\n",
    "\n\n",
    "PPF of geometric distribution: \n",
    "$$ \\text{PPF}(q) = \\min \\{ k \\in \\mathbb{N}^+ \\mid P(X \\leq k) \\geq q \\} $$\n",
    "where $0 < p \\leq 1$ and $0 < q < 1$\n",
    "\n\n",
    "Expected Value:\n",
    "$$ E[X] = \\frac{1}{p} $$\n",
    "\n",
    "Variance:\n",
    "$$ Var(X) = \\frac{1-p}{p^2} $$"
   ]
  },
  {
   "cell_type": "markdown",
   "metadata": {},
   "source": [
    "## a: Calculate the probability P(K = 4)"
   ]
  },
  {
   "cell_type": "code",
   "execution_count": null,
   "metadata": {},
   "outputs": [],
   "source": [
    "import numpy as np\n",
    "from scipy.stats import geom\n",
    "\n",
    "# Set the success probability\n",
    "p = 0.25\n",
    "\n",
    "# Calculate P(K = 4) using PMF\n",
    "p4 = geom.pmf(k=4, p=p)\n",
    "\n",
    "print(f\"a. P(K = 4) = {p4:.4f}\")"
   ]
  },
  {
   "cell_type": "markdown",
   "metadata": {},
   "source": [
    "## b. Calculate the probability P(K ≤ 3)"
   ]
  },
  {
   "cell_type": "code",
   "execution_count": null,
   "metadata": {},
   "outputs": [],
   "source": [
    "# Calculate P(K ≤ 3) using CDF\n",
    "p3 = geom.cdf(k=3, p=p)\n",
    "\n",
    "print(f\"b. P(K ≤ 3) = {p3:.4f}\")"
   ]
  },
  {
   "cell_type": "markdown",
   "metadata": {},
   "source": [
    "## c. Calculate the 0.7 quantile"
   ]
  },
  {
   "cell_type": "code",
   "execution_count": null,
   "metadata": {},
   "outputs": [],
   "source": [
    "# Calculate 0.7 quantile using PPF. The quantile is the smallest k where P(X ≤ k) ≥ 0.7\n",
    "quantile_07 = geom.ppf(q=0.7, p=p)\n",
    "\n",
    "print(f\"c. The 0.7 quantile is: {int(quantile_07)}\")\n",
    "print(f\"   This means P(X ≤ {int(quantile_07)}) ≥ 0.7\")"
   ]
  },
  {
   "cell_type": "markdown",
   "metadata": {},
   "source": [
    "## d. Generate n = 100 random samples from this distribution"
   ]
  },
  {
   "cell_type": "code",
   "execution_count": null,
   "metadata": {},
   "outputs": [],
   "source": [
    "np.random.seed(42)  # Set seed for reproducibility\n",
    "\n",
    "# Generate 100 random samples from geometric distribution\n",
    "samples = geom.rvs(p=p, size=100)\n",
    "\n",
    "# Display samples\n",
    "print(\"d. All 100 random samples:\")\n",
    "for i in range(0, 100, 10):\n",
    "    print(samples[i:i + 10])"
   ]
  }
 ],
 "metadata": {
  "kernelspec": {
   "display_name": "Python 3",
   "language": "python",
   "name": "python3"
  },
  "language_info": {
   "codemirror_mode": {
    "name": "ipython",
    "version": 3
   },
   "file_extension": ".py",
   "mimetype": "text/x-python",
   "name": "python",
   "nbconvert_exporter": "python",
   "pygments_lexer": "ipython3",
   "version": "3.x"
  }
 },
 "nbformat": 4,
 "nbformat_minor": 2
}
    
